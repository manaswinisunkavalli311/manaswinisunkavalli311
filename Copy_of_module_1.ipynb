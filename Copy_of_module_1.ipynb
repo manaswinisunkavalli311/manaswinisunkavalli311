{
  "nbformat": 4,
  "nbformat_minor": 0,
  "metadata": {
    "colab": {
      "name": "Copy of module 1",
      "provenance": [],
      "authorship_tag": "ABX9TyNuJcOJkBbnkOzJ9Mq5bGbu",
      "include_colab_link": true
    },
    "kernelspec": {
      "name": "python3",
      "display_name": "Python 3"
    },
    "language_info": {
      "name": "python"
    }
  },
  "cells": [
    {
      "cell_type": "markdown",
      "metadata": {
        "id": "view-in-github",
        "colab_type": "text"
      },
      "source": [
        "<a href=\"https://colab.research.google.com/github/manaswinisunkavalli311/manaswinisunkavalli311/blob/main/Copy_of_module_1.ipynb\" target=\"_parent\"><img src=\"https://colab.research.google.com/assets/colab-badge.svg\" alt=\"Open In Colab\"/></a>"
      ]
    },
    {
      "cell_type": "code",
      "execution_count": null,
      "metadata": {
        "colab": {
          "base_uri": "https://localhost:8080/"
        },
        "id": "166VgL3YCK7u",
        "outputId": "5c899e55-ed5b-4398-a5d6-ae5b2e12ce62"
      },
      "outputs": [
        {
          "output_type": "stream",
          "name": "stdout",
          "text": [
            "enter21\n",
            "enter12\n",
            "enter13\n",
            "enter45\n",
            "enter23\n",
            "pass\n"
          ]
        }
      ],
      "source": [
        "#5 subject marks\n",
        "s1=int(input(\"enter\"))\n",
        "s2=int(input(\"enter\"))\n",
        "s3=int(input(\"enter\"))\n",
        "s4=int(input(\"enter\"))\n",
        "s5=int(input(\"enter\"))\n",
        "avg=s1+s2+s3+s4+s5/5\n",
        "if(avg>=90):\n",
        "     print(\"pass\")\n",
        "elif (avg>=80 and avg<=90):\n",
        "    print(\"a\")\n",
        "elif (avg>=70 and avg<=80):\n",
        "    print(\"b\")\n",
        "elif (avg>=60 and avg<=70):\n",
        "    print(\"c\")\n",
        "else:\n",
        "    print(\"f\")"
      ]
    },
    {
      "cell_type": "code",
      "source": [
        "#mathematical operators\n",
        "a=int(input(\"enter\"))\n",
        "b=int(input(\"enter\"))\n",
        "add=a+b\n",
        "sub=a-b\n",
        "mul=a*b\n",
        "div=a/b\n",
        "rem=a%b\n",
        "print(div)\n",
        "print(add)\n",
        "print(mul)\n",
        "print(rem)"
      ],
      "metadata": {
        "colab": {
          "base_uri": "https://localhost:8080/"
        },
        "id": "sZOjVzqECoJ2",
        "outputId": "13332035-58ad-474c-86ed-9c113224ce78"
      },
      "execution_count": null,
      "outputs": [
        {
          "output_type": "stream",
          "name": "stdout",
          "text": [
            "enter2\n",
            "enter6\n",
            "0.3333333333333333\n",
            "8\n",
            "12\n",
            "2\n"
          ]
        }
      ]
    },
    {
      "cell_type": "code",
      "source": [
        " #gcd ( recursion )\n",
        "def hcf(a, b):\n",
        "\tif(b == 0):\n",
        "\t\treturn a\n",
        "\telse:\n",
        "\t\treturn hcf(b, a % b)\n",
        "a = int(input(\"enter\"))\n",
        "b = int(input(\"enter\"))\n",
        "print(\"The gcd of a and b is : \", end=\"\")\n",
        "print(hcf(a,b))\n",
        "\n",
        "     \n"
      ],
      "metadata": {
        "colab": {
          "base_uri": "https://localhost:8080/"
        },
        "id": "hFjCVDKeDDGk",
        "outputId": "9290ed3b-33cc-4c7f-df00-afa71f448753"
      },
      "execution_count": null,
      "outputs": [
        {
          "output_type": "stream",
          "name": "stdout",
          "text": [
            "enter60\n",
            "enter48\n",
            "The gcd of a and b is : 12\n"
          ]
        }
      ]
    },
    {
      "cell_type": "code",
      "source": [
        "#fibnocci series\n",
        "fibonacciList = [0, 1]\n",
        "N = 9\n",
        "term = 3\n",
        "while term < N + 1:\n",
        "    value = fibonacciList[term - 2] + fibonacciList[term - 3]\n",
        "    fibonacciList.append(value)\n",
        "    term = term + 1\n",
        "print(\"9 terms of the fibonacci series are:\")\n",
        "print(fibonacciList)"
      ],
      "metadata": {
        "colab": {
          "base_uri": "https://localhost:8080/"
        },
        "id": "fRpMfC9nGxVw",
        "outputId": "61043100-6253-40e7-8bdb-ca38668f132c"
      },
      "execution_count": null,
      "outputs": [
        {
          "output_type": "stream",
          "name": "stdout",
          "text": [
            "9 terms of the fibonacci series are:\n",
            "[0, 1, 1, 2, 3, 5, 8, 13, 21]\n"
          ]
        }
      ]
    },
    {
      "cell_type": "code",
      "source": [
        "#strong number\n",
        "sum1=0\n",
        "num=int(input(\"Enter a number:\"))\n",
        "temp=num\n",
        "while(num):\n",
        "    i=1\n",
        "    f=1\n",
        "    r=num%10\n",
        "    while(i<=r):\n",
        "        f=f*i\n",
        "        i=i+1\n",
        "    sum1=sum1+f\n",
        "    num=num//10\n",
        "if(sum1==temp):\n",
        "    print(\"The number is a strong number\")\n",
        "else:\n",
        "    print(\"The number is not a strong number\")\n"
      ],
      "metadata": {
        "colab": {
          "base_uri": "https://localhost:8080/"
        },
        "id": "5sorqmSlGxYk",
        "outputId": "5b103d57-c881-4e18-c2ab-946dd6cb3831"
      },
      "execution_count": null,
      "outputs": [
        {
          "output_type": "stream",
          "name": "stdout",
          "text": [
            "Enter a number:6\n",
            "The number is not a strong number\n"
          ]
        }
      ]
    },
    {
      "cell_type": "code",
      "source": [
        "#even count odd count\n",
        "a = input ()\n",
        "a = int (a)\n",
        "\n",
        "even = 0\n",
        "odd = 0\n",
        "\n",
        "while a> 0:\n",
        "    if a% 2 == 0:\n",
        "        even += 1\n",
        "    else:\n",
        "        odd += 1\n",
        "    a = a // 10\n",
        "\n",
        "print (\"Even:% d, odd:% d\"% (even, odd))"
      ],
      "metadata": {
        "colab": {
          "base_uri": "https://localhost:8080/"
        },
        "id": "LulpQTd5GxcB",
        "outputId": "d10d5576-63ff-40d6-f4f3-ef1f3d8f9d26"
      },
      "execution_count": null,
      "outputs": [
        {
          "output_type": "stream",
          "name": "stdout",
          "text": [
            "8\n",
            "Even: 1, odd: 0\n"
          ]
        }
      ]
    },
    {
      "cell_type": "code",
      "source": [
        "#even or add\n",
        "num=int(input(\"enter\"))\n",
        "if num%2 == 0:\n",
        "    print(\"The number is even number.\")\n",
        "else:\n",
        "    print(\"The number is odd number.\")"
      ],
      "metadata": {
        "colab": {
          "base_uri": "https://localhost:8080/"
        },
        "id": "hIUsDzkiJ3OI",
        "outputId": "d42b0849-b43c-4724-a616-2ca6848ebf69"
      },
      "execution_count": null,
      "outputs": [
        {
          "output_type": "stream",
          "name": "stdout",
          "text": [
            "enter4\n",
            "The number is even number.\n"
          ]
        }
      ]
    },
    {
      "cell_type": "code",
      "source": [
        "# storing a variable\n",
        "val=input(\"enter\")\n",
        "print(val)"
      ],
      "metadata": {
        "colab": {
          "base_uri": "https://localhost:8080/"
        },
        "id": "w1bbv038DEHH",
        "outputId": "13dc7428-4ea4-4c70-cf68-d90b0b073126"
      },
      "execution_count": null,
      "outputs": [
        {
          "output_type": "stream",
          "name": "stdout",
          "text": [
            "enter2\n",
            "2\n"
          ]
        }
      ]
    },
    {
      "cell_type": "code",
      "source": [
        "# Python3 program to find compound interest\n",
        "principle=int(input(\"enter\"))\n",
        "rate=float(input(\"enter\"))\n",
        "time=int(input(\"enter\"))\n",
        "Amount = principle * (pow((1 + rate / 100), time))\n",
        "CI = Amount - principle\n",
        "print(\"Compound interest is\", CI)\n",
        "\n",
        "\n",
        "\n"
      ],
      "metadata": {
        "colab": {
          "base_uri": "https://localhost:8080/"
        },
        "id": "md8MgmyfKLzK",
        "outputId": "80e28321-c38d-4903-d048-7f24570e1c25"
      },
      "execution_count": null,
      "outputs": [
        {
          "output_type": "stream",
          "name": "stdout",
          "text": [
            "enter233\n",
            "enter2\n",
            "enter1\n",
            "Compound interest is 4.659999999999997\n"
          ]
        }
      ]
    },
    {
      "cell_type": "code",
      "source": [
        "#si\n",
        "p=float(input(\"p\"))\n",
        "t=float(input(\"t\"))\n",
        "r=float(input(\"r\"))\n",
        "si=(p*t*r)/100\n",
        "print(si)\n",
        "\n"
      ],
      "metadata": {
        "colab": {
          "base_uri": "https://localhost:8080/"
        },
        "id": "TRd7bV8hKL1m",
        "outputId": "4064b065-443a-42a2-df35-5ae0f5562dfa"
      },
      "execution_count": null,
      "outputs": [
        {
          "output_type": "stream",
          "name": "stdout",
          "text": [
            "p2.1\n",
            "t1\n",
            "r2\n",
            "0.042\n"
          ]
        }
      ]
    },
    {
      "cell_type": "code",
      "source": [
        "#factorial of number\n",
        "num=int(input(\"enter\"))\n",
        "fact=1\n",
        "if(num<0):\n",
        "  print(\"no\")\n",
        "elif num==0:\n",
        "    print(\"fact of 0 is 1\")\n",
        "else:\n",
        "      for i in range(1,num+1):\n",
        "        fact=fact*i\n",
        "        print(fact)"
      ],
      "metadata": {
        "colab": {
          "base_uri": "https://localhost:8080/"
        },
        "id": "JQjPOb_lKL4K",
        "outputId": "8444dd1a-dfce-4c38-c4b9-c7a0ac36b6f1"
      },
      "execution_count": null,
      "outputs": [
        {
          "output_type": "stream",
          "name": "stdout",
          "text": [
            "enter56\n",
            "1\n",
            "2\n",
            "6\n",
            "24\n",
            "120\n",
            "720\n",
            "5040\n",
            "40320\n",
            "362880\n",
            "3628800\n",
            "39916800\n",
            "479001600\n",
            "6227020800\n",
            "87178291200\n",
            "1307674368000\n",
            "20922789888000\n",
            "355687428096000\n",
            "6402373705728000\n",
            "121645100408832000\n",
            "2432902008176640000\n",
            "51090942171709440000\n",
            "1124000727777607680000\n",
            "25852016738884976640000\n",
            "620448401733239439360000\n",
            "15511210043330985984000000\n",
            "403291461126605635584000000\n",
            "10888869450418352160768000000\n",
            "304888344611713860501504000000\n",
            "8841761993739701954543616000000\n",
            "265252859812191058636308480000000\n",
            "8222838654177922817725562880000000\n",
            "263130836933693530167218012160000000\n",
            "8683317618811886495518194401280000000\n",
            "295232799039604140847618609643520000000\n",
            "10333147966386144929666651337523200000000\n",
            "371993326789901217467999448150835200000000\n",
            "13763753091226345046315979581580902400000000\n",
            "523022617466601111760007224100074291200000000\n",
            "20397882081197443358640281739902897356800000000\n",
            "815915283247897734345611269596115894272000000000\n",
            "33452526613163807108170062053440751665152000000000\n",
            "1405006117752879898543142606244511569936384000000000\n",
            "60415263063373835637355132068513997507264512000000000\n",
            "2658271574788448768043625811014615890319638528000000000\n",
            "119622220865480194561963161495657715064383733760000000000\n",
            "5502622159812088949850305428800254892961651752960000000000\n",
            "258623241511168180642964355153611979969197632389120000000000\n",
            "12413915592536072670862289047373375038521486354677760000000000\n",
            "608281864034267560872252163321295376887552831379210240000000000\n",
            "30414093201713378043612608166064768844377641568960512000000000000\n",
            "1551118753287382280224243016469303211063259720016986112000000000000\n",
            "80658175170943878571660636856403766975289505440883277824000000000000\n",
            "4274883284060025564298013753389399649690343788366813724672000000000000\n",
            "230843697339241380472092742683027581083278564571807941132288000000000000\n",
            "12696403353658275925965100847566516959580321051449436762275840000000000000\n",
            "710998587804863451854045647463724949736497978881168458687447040000000000000\n"
          ]
        }
      ]
    },
    {
      "cell_type": "code",
      "source": [
        "#perfect number\n",
        "num=int(input(\"enter num\"))\n",
        "sum=0\n",
        "for i in range (1,num):\n",
        "      if(num%i==0):\n",
        "           sum=sum+i\n",
        "if(sum==num):\n",
        "     print(\"perfect\")\n",
        "else:\n",
        "  print(\"not\")\n"
      ],
      "metadata": {
        "colab": {
          "base_uri": "https://localhost:8080/"
        },
        "id": "2yLxRlopKL68",
        "outputId": "710332cb-defd-4907-d54e-4f854cedbb5b"
      },
      "execution_count": null,
      "outputs": [
        {
          "output_type": "stream",
          "name": "stdout",
          "text": [
            "enter num23\n",
            "not\n"
          ]
        }
      ]
    },
    {
      "cell_type": "code",
      "source": [
        "#divisible by 2\n",
        "n=int(input(\"enter\"))\n",
        "for i in range(1,n+1):\n",
        "  if(i%2==0):\n",
        "    print(i)"
      ],
      "metadata": {
        "colab": {
          "base_uri": "https://localhost:8080/"
        },
        "id": "uGHu7AWxKL-Z",
        "outputId": "4f464aae-c978-497e-cd89-356e2b2e1879"
      },
      "execution_count": null,
      "outputs": [
        {
          "output_type": "stream",
          "name": "stdout",
          "text": [
            "enter32\n",
            "2\n",
            "4\n",
            "6\n",
            "8\n",
            "10\n",
            "12\n",
            "14\n",
            "16\n",
            "18\n",
            "20\n",
            "22\n",
            "24\n",
            "26\n",
            "28\n",
            "30\n",
            "32\n"
          ]
        }
      ]
    },
    {
      "cell_type": "code",
      "source": [
        "#square of number\n",
        "import math\n",
        "a=int(input(\"enter\"))\n",
        "x = math.sqrt(a)\n",
        "\n",
        "print(x)"
      ],
      "metadata": {
        "colab": {
          "base_uri": "https://localhost:8080/"
        },
        "id": "LjL9JZYYNG-0",
        "outputId": "de41ded5-d8e5-4ca2-9bcd-b7e0a0a3444d"
      },
      "execution_count": null,
      "outputs": [
        {
          "output_type": "stream",
          "name": "stdout",
          "text": [
            "enter64\n",
            "8.0\n"
          ]
        }
      ]
    },
    {
      "cell_type": "code",
      "source": [
        "#power of 2 numbers\n",
        "a=int(input(\"enter\"))\n",
        "b=int(input(\"enter\"))\n",
        "x = pow(a,b)\n",
        "print(x)"
      ],
      "metadata": {
        "colab": {
          "base_uri": "https://localhost:8080/"
        },
        "id": "cZJEZxtcNHBn",
        "outputId": "09aa0132-8237-4db8-a58a-99848666a12d"
      },
      "execution_count": null,
      "outputs": [
        {
          "output_type": "stream",
          "name": "stdout",
          "text": [
            "enter2\n",
            "enter3\n",
            "8\n"
          ]
        }
      ]
    },
    {
      "cell_type": "code",
      "source": [
        "#mathematical operators\n",
        "a=float(input(\"enter\"))\n",
        "x = math.ceil(a)\n",
        "y = math.floor(a)\n",
        "print(x)\n",
        "print(y) "
      ],
      "metadata": {
        "colab": {
          "base_uri": "https://localhost:8080/"
        },
        "id": "Glyzb6p0NHFC",
        "outputId": "021d31f3-a68a-4f09-de36-2e2005119ea8"
      },
      "execution_count": null,
      "outputs": [
        {
          "output_type": "stream",
          "name": "stdout",
          "text": [
            "enter7.9\n",
            "8\n",
            "7\n"
          ]
        }
      ]
    },
    {
      "cell_type": "code",
      "source": [
        "#mathematical operators\n",
        "import math\n",
        "\n",
        "x = math.pi\n",
        "\n",
        "print(x)\n"
      ],
      "metadata": {
        "colab": {
          "base_uri": "https://localhost:8080/"
        },
        "id": "6gQU3VcbPYPp",
        "outputId": "fbe59e15-71a0-4357-f2d8-04099ff9a2fe"
      },
      "execution_count": null,
      "outputs": [
        {
          "output_type": "stream",
          "name": "stdout",
          "text": [
            "3.141592653589793\n"
          ]
        }
      ]
    },
    {
      "cell_type": "code",
      "source": [
        ""
      ],
      "metadata": {
        "id": "baceKT94NHKf"
      },
      "execution_count": null,
      "outputs": []
    }
  ]
}